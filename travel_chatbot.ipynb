{
 "cells": [
  {
   "cell_type": "code",
   "execution_count": 1,
   "metadata": {},
   "outputs": [
    {
     "data": {
      "text/plain": [
       "True"
      ]
     },
     "execution_count": 1,
     "metadata": {},
     "output_type": "execute_result"
    }
   ],
   "source": [
    "import os\n",
    "from typing import Literal\n",
    "from operator import itemgetter\n",
    "from typing_extensions import TypedDict\n",
    "from dotenv import load_dotenv\n",
    "from langchain_chroma import Chroma\n",
    "from langchain_openai import OpenAI, ChatOpenAI\n",
    "from langchain_core.runnables import RunnableLambda\n",
    "from langchain_core.prompts import ChatPromptTemplate\n",
    "from langchain_core.output_parsers import StrOutputParser\n",
    "\n",
    "load_dotenv()"
   ]
  },
  {
   "cell_type": "code",
   "execution_count": 2,
   "metadata": {},
   "outputs": [],
   "source": [
    "os.environ[\"LANGCHAIN_TRACING_V2\"] = \"true\"\n",
    "os.environ['OPENAI_API_KEY'] = os.getenv('OPENAI_API_KEY')\n",
    "os.environ[\"LANGCHAIN_API_KEY\"] = os.getenv('LANGCHAIN_API_KEY')"
   ]
  },
  {
   "cell_type": "markdown",
   "metadata": {},
   "source": [
    "## Third-party data"
   ]
  },
  {
   "cell_type": "markdown",
   "metadata": {},
   "source": [
    "source data -> text loader -> embedding vector -> store vectors -> retrieve vectors"
   ]
  },
  {
   "cell_type": "code",
   "execution_count": 3,
   "metadata": {},
   "outputs": [],
   "source": [
    "# # TODO: add third-party data\n",
    "# loader = TextLoader(\"./data/recipes.json\")\n",
    "# index = VectorstoreIndexCreator(embedding=OpenAIEmbeddings()).from_loaders([loader]) \n",
    "\n",
    "# data = loader.load()\n",
    "# text_splitter = RecursiveCharacterTextSplitter(chunk_size=500, chunk_overlap=0)\n",
    "# all_splits = text_splitter.split_documents(data)\n",
    "# vectorstore = Chroma.from_documents(documents=all_splits, embedding=OpenAIEmbeddings())\n",
    "\n",
    "# # k is the number of chunks to retrieve\n",
    "# k = 4\n",
    "# retriever = vectorstore.as_retriever(k=k)"
   ]
  },
  {
   "cell_type": "code",
   "execution_count": 4,
   "metadata": {},
   "outputs": [],
   "source": [
    "# query = \"How to make Classic Margherita Pizza?\"\n",
    "# result = index.query_with_sources(query, llm=OpenAI())"
   ]
  },
  {
   "cell_type": "markdown",
   "metadata": {},
   "source": [
    "## Build chains for different use cases"
   ]
  },
  {
   "cell_type": "code",
   "execution_count": 6,
   "metadata": {},
   "outputs": [],
   "source": [
    "def chain_creator(llm, prompt_template):\n",
    "    return prompt_template | llm | StrOutputParser()\n",
    "\n",
    "def create_prompt_template(system_message: str) -> ChatPromptTemplate:\n",
    "    return ChatPromptTemplate.from_messages(\n",
    "        [\n",
    "            (\"system\", system_message),\n",
    "            (\"human\", \"{query}\"),\n",
    "        ]\n",
    "    )"
   ]
  },
  {
   "cell_type": "code",
   "execution_count": 7,
   "metadata": {},
   "outputs": [],
   "source": [
    "# LLM\n",
    "llm = ChatOpenAI(model=\"gpt-3.5-turbo\")\n",
    "\n",
    "# Define system messages for each service\n",
    "service_prompts = {\n",
    "    \"tourist_attraction\": \"You are an expert in finding tourist attractions.\",\n",
    "    \"itinerary_planning\": \"You are an expert in travel itinerary planning.\",\n",
    "    \"restaurant_recommendations\": \"You are an expert in recommending restaurants.\",\n",
    "    \"exploring_travel_ideas\": \"You are an expert in recommending travel ideas.\",\n",
    "    \"others\": \"You are a friendly and helpful chatbot.\"\n",
    "}\n",
    "\n",
    "# Create chains for each service\n",
    "service_chains = {service: chain_creator(llm=llm, prompt_template=create_prompt_template(service_prompts[service])) for service in service_prompts.keys()}"
   ]
  },
  {
   "cell_type": "markdown",
   "metadata": {},
   "source": [
    "## Route an input query to a specific chain "
   ]
  },
  {
   "cell_type": "code",
   "execution_count": 9,
   "metadata": {},
   "outputs": [],
   "source": [
    "# Define the routing system\n",
    "class RouteQuery(TypedDict):\n",
    "    \"\"\"Route query to the appropriate service_type.\"\"\"\n",
    "    service_type: Literal[\n",
    "        \"tourist_attraction\", \n",
    "        \"itinerary_planning\", \n",
    "        \"restaurant_recommendations\", \n",
    "        \"exploring_travel_ideas\",\n",
    "        \"others\"\n",
    "    ]\n",
    "\n",
    "route_system = \"Route the user's query to either 'tourist_attraction', 'itinerary_planning', 'restaurant_recommendations', 'exploring_travel_ideas', or 'others' if it doesn't fit into the previous categories.\"\n",
    "\n",
    "route_prompt = ChatPromptTemplate.from_messages(\n",
    "    [\n",
    "        (\"system\", route_system),\n",
    "        (\"human\", \"{query}\"),\n",
    "    ]\n",
    ")\n",
    "\n",
    "# Routing chain based on the query\n",
    "route_chain = route_prompt | llm.with_structured_output(RouteQuery) | itemgetter(\"service_type\")\n",
    "\n",
    "# Final chain that routes to the appropriate LLM chain based on user input\n",
    "def get_chain_for_service(service_type, query):\n",
    "    print(\"service_type: \", service_type)\n",
    "    print(\"query: \", query)\n",
    "    if service_type in service_chains.keys():\n",
    "        return service_chains.get(service_type).invoke({\"query\": query})\n",
    "    else:\n",
    "        raise ValueError(f\"Unknown service type: {service_type}\")\n",
    "    \n",
    "# Combine all the steps into the final chain\n",
    "chatbot_chain = {\n",
    "    \"service_type\": route_chain,\n",
    "    \"query\": lambda x: x['query']\n",
    "} | RunnableLambda(\n",
    "    # Final step: Route to the correct service and invoke the right chain\n",
    "    lambda x: get_chain_for_service(x[\"service_type\"], x['query'])\n",
    ")"
   ]
  },
  {
   "cell_type": "markdown",
   "metadata": {},
   "source": [
    "## Start"
   ]
  },
  {
   "cell_type": "code",
   "execution_count": 12,
   "metadata": {},
   "outputs": [
    {
     "name": "stdout",
     "output_type": "stream",
     "text": [
      "service_type:  restaurant_recommendations\n",
      "query:  Could you recommend 3 delicious and cheap restaurants in Victoria BC?\n",
      "Response: Of course! Here are three delicious and affordable restaurants in Victoria, BC:\n",
      "\n",
      "1. Red Fish Blue Fish - Located in a converted cargo container on the waterfront, Red Fish Blue Fish serves up delicious and sustainable seafood dishes at affordable prices. Their fish tacos and seafood poutine are highly recommended.\n",
      "\n",
      "2. Foo Asian Street Food - This casual eatery in downtown Victoria offers a variety of Asian street food dishes at budget-friendly prices. Their bao buns, rice bowls, and noodle dishes are sure to satisfy your cravings without breaking the bank.\n",
      "\n",
      "3. La Taquisa - For tasty and affordable Mexican cuisine, head to La Taquisa. With multiple locations in Victoria, this restaurant offers a menu full of traditional Mexican dishes like tacos, burritos, and quesadillas made with fresh and flavorful ingredients.\n",
      "\n",
      "These restaurants are known for their delicious food and reasonable prices, making them great options for dining out on a budget in Victoria. Enjoy your meal!\n"
     ]
    }
   ],
   "source": [
    "if __name__ == \"__main__\":\n",
    "\n",
    "    inout_query = {\n",
    "        \"query\": \"Could you recommend 3 delicious and cheap restaurants in Victoria BC?\"\n",
    "    }    \n",
    "    response = chatbot_chain.invoke(inout_query)\n",
    "    print(f\"Response: {response}\")"
   ]
  }
 ],
 "metadata": {
  "kernelspec": {
   "display_name": "pytorch_env",
   "language": "python",
   "name": "python3"
  },
  "language_info": {
   "codemirror_mode": {
    "name": "ipython",
    "version": 3
   },
   "file_extension": ".py",
   "mimetype": "text/x-python",
   "name": "python",
   "nbconvert_exporter": "python",
   "pygments_lexer": "ipython3",
   "version": "3.11.3"
  }
 },
 "nbformat": 4,
 "nbformat_minor": 2
}
