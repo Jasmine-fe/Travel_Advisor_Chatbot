{
 "cells": [
  {
   "cell_type": "markdown",
   "metadata": {},
   "source": [
    "# Travel Chatbot\n",
    "\n",
    "debug: [Langsmith](https://smith.langchain.com/o/9bf1c98b-4218-5f11-a048-6ee687b314f9/projects/p/9e4eea47-594f-4714-b02c-e511458be97f?timeModel=%7B%22duration%22%3A%227d%22%7D)"
   ]
  },
  {
   "cell_type": "code",
   "execution_count": 1,
   "metadata": {},
   "outputs": [
    {
     "data": {
      "text/plain": [
       "True"
      ]
     },
     "execution_count": 1,
     "metadata": {},
     "output_type": "execute_result"
    }
   ],
   "source": [
    "import os\n",
    "import json\n",
    "import pandas as pd\n",
    "from typing import Literal\n",
    "from dotenv import load_dotenv\n",
    "from operator import itemgetter\n",
    "from langchain_chroma import Chroma\n",
    "from typing_extensions import TypedDict\n",
    "from langchain_openai import ChatOpenAI\n",
    "from langchain_core.runnables import RunnableLambda, RunnablePassthrough\n",
    "from langchain_core.prompts import ChatPromptTemplate\n",
    "from langchain_openai.embeddings import OpenAIEmbeddings\n",
    "from langchain_core.output_parsers import StrOutputParser\n",
    "from langchain_text_splitters import RecursiveCharacterTextSplitter, RecursiveJsonSplitter\n",
    "from langchain.document_loaders import CSVLoader\n",
    "from langchain.retrievers import ParentDocumentRetriever\n",
    "from langchain.storage import InMemoryStore\n",
    "from restaurant_chain import RestaurantChain\n",
    "\n",
    "load_dotenv()"
   ]
  },
  {
   "cell_type": "code",
   "execution_count": 3,
   "metadata": {},
   "outputs": [],
   "source": [
    "os.environ[\"LANGCHAIN_TRACING_V2\"] = \"true\"\n",
    "os.environ[\"OPENAI_API_KEY\"] = os.getenv(\"OPENAI_API_KEY\")\n",
    "os.environ[\"LANGCHAIN_API_KEY\"] = os.getenv(\"LANGCHAIN_API_KEY\")"
   ]
  },
  {
   "cell_type": "markdown",
   "metadata": {},
   "source": [
    "## Build chains for different use cases"
   ]
  },
  {
   "cell_type": "code",
   "execution_count": 4,
   "metadata": {},
   "outputs": [],
   "source": [
    "def chain_creator(llm, prompt_template):\n",
    "    return prompt_template | llm | StrOutputParser()\n",
    "\n",
    "def create_prompt_template(system_message: str) -> ChatPromptTemplate:\n",
    "    return ChatPromptTemplate.from_messages(\n",
    "        [\n",
    "            (\"system\", system_message),\n",
    "            (\"human\", \"{query}\"),\n",
    "        ]\n",
    "    )"
   ]
  },
  {
   "cell_type": "code",
   "execution_count": 5,
   "metadata": {},
   "outputs": [],
   "source": [
    "llm = ChatOpenAI(model=\"gpt-3.5-turbo\")\n",
    "\n",
    "# Define system messages for each service\n",
    "service_prompts = {\n",
    "    \"tourist_attraction\": \"You are an expert in finding tourist attractions.\",\n",
    "    \"itinerary_planning\": \"You are an expert in travel itinerary planning.\",\n",
    "    \"exploring_travel_ideas\": \"You are an expert in recommending travel ideas.\",\n",
    "    \"others\": \"You are a friendly and helpful chatbot.\"\n",
    "}\n",
    "\n",
    "# Create chains for each service (service without Rag)\n",
    "service_chains = {service: chain_creator(llm=llm, prompt_template=create_prompt_template(service_prompts[service])) for service in service_prompts.keys()}\n",
    "\n",
    "# Create chains for each service (service with Rag)\n",
    "restaurantChain = RestaurantChain()\n",
    "restaurant_full_chains = restaurantChain.get_full_chains()\n",
    "service_chains['restaurant_recommendations'] = restaurant_full_chains"
   ]
  },
  {
   "cell_type": "markdown",
   "metadata": {},
   "source": [
    "## Route an input query to a specific chain "
   ]
  },
  {
   "cell_type": "code",
   "execution_count": 12,
   "metadata": {},
   "outputs": [],
   "source": [
    "# Define the routing system\n",
    "class RouteQuery(TypedDict):\n",
    "    \"\"\"Route query to the appropriate service_type.\"\"\"\n",
    "    service_type: Literal[\n",
    "        \"tourist_attraction\", \n",
    "        \"itinerary_planning\", \n",
    "        \"restaurant_recommendations\", \n",
    "        \"exploring_travel_ideas\",\n",
    "        \"others\"\n",
    "    ]\n",
    "\n",
    "route_system = \"Route the user's query to either 'tourist_attraction', 'itinerary_planning', 'restaurant_recommendations', 'exploring_travel_ideas', or 'others' if it doesn't fit into the previous categories.\"\n",
    "\n",
    "route_prompt = ChatPromptTemplate.from_messages(\n",
    "    [\n",
    "        (\"system\", route_system),\n",
    "        (\"human\", \"{query}\"),\n",
    "    ]\n",
    ")\n",
    "\n",
    "# Routing chain based on the query\n",
    "route_chain = route_prompt | llm.with_structured_output(RouteQuery) | itemgetter(\"service_type\")\n",
    "\n",
    "# Final chain that routes to the appropriate LLM chain based on user input\n",
    "def get_chain_for_service(input):\n",
    "    service_type = input['service_type']\n",
    "    query = input['query']\n",
    "    print(\"service_type: \", service_type)\n",
    "    print(\"query: \", query)\n",
    "    if service_type in service_chains.keys():\n",
    "        return service_chains.get(service_type).invoke({\"query\": query})\n",
    "    else:\n",
    "        raise ValueError(f\"Unknown service type: {service_type}\")\n",
    "    \n",
    "# Combine all the steps into the final chain\n",
    "chatbot_chain = {\n",
    "    \"service_type\": route_chain,\n",
    "    \"query\": lambda x: x['query']\n",
    "} | RunnableLambda(get_chain_for_service)"
   ]
  },
  {
   "cell_type": "markdown",
   "metadata": {},
   "source": [
    "## Start"
   ]
  },
  {
   "cell_type": "code",
   "execution_count": 13,
   "metadata": {},
   "outputs": [
    {
     "name": "stdout",
     "output_type": "stream",
     "text": [
      "service_type:  others\n",
      "query:  What's the weather tomorrow in Victoria BC ?\n",
      "Response: I don't have real-time information on weather. However, you can check the weather forecast for Victoria, BC tomorrow by visiting a weather website like Weather.com or by using a weather app on your smartphone.\n"
     ]
    }
   ],
   "source": [
    "if __name__ == \"__main__\":\n",
    "\n",
    "    inout_query = {\n",
    "        \"query\": \"What's the weather tomorrow in Victoria BC ?\"\n",
    "    }    \n",
    "    response = chatbot_chain.invoke(inout_query)\n",
    "    print(f\"Response: {response}\")"
   ]
  }
 ],
 "metadata": {
  "kernelspec": {
   "display_name": "pytorch_env",
   "language": "python",
   "name": "python3"
  },
  "language_info": {
   "codemirror_mode": {
    "name": "ipython",
    "version": 3
   },
   "file_extension": ".py",
   "mimetype": "text/x-python",
   "name": "python",
   "nbconvert_exporter": "python",
   "pygments_lexer": "ipython3",
   "version": "3.11.3"
  }
 },
 "nbformat": 4,
 "nbformat_minor": 2
}
